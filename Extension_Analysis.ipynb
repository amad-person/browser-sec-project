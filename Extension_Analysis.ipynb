{
  "nbformat": 4,
  "nbformat_minor": 0,
  "metadata": {
    "colab": {
      "provenance": []
    },
    "kernelspec": {
      "name": "python3",
      "display_name": "Python 3"
    },
    "language_info": {
      "name": "python"
    }
  },
  "cells": [
    {
      "cell_type": "code",
      "source": [
        "import os\n",
        "import pandas as pd\n",
        "import numpy as np\n",
        "import json\n",
        "import matplotlib.pyplot as plt\n",
        "import seaborn as sns"
      ],
      "metadata": {
        "id": "bcD30pPLoiIR"
      },
      "execution_count": 1,
      "outputs": []
    },
    {
      "cell_type": "code",
      "source": [
        "from google.colab import drive\n",
        "drive.mount('/content/drive')"
      ],
      "metadata": {
        "colab": {
          "base_uri": "https://localhost:8080/"
        },
        "id": "AvpbkOunAW0t",
        "outputId": "1d428128-e041-461e-e63a-27daf970539f"
      },
      "execution_count": 2,
      "outputs": [
        {
          "output_type": "stream",
          "name": "stdout",
          "text": [
            "Drive already mounted at /content/drive; to attempt to forcibly remount, call drive.mount(\"/content/drive\", force_remount=True).\n"
          ]
        }
      ]
    },
    {
      "cell_type": "code",
      "execution_count": 3,
      "metadata": {
        "id": "TvGiHJ5KEB5G"
      },
      "outputs": [],
      "source": [
        "# !unzip \"/content/drive/MyDrive/14828 Browser Security Project/result_zips/analysis_from5to12am.zip\" -d \"/content/drive/MyDrive/14828 Browser Security Project/DoubleX_Results\""
      ]
    },
    {
      "cell_type": "code",
      "source": [
        "# !rm -rf \"/content/drive/MyDrive/14828 Browser Security Project/DoubleX_Results/__MACOSX\""
      ],
      "metadata": {
        "id": "53lCeLYhABO-"
      },
      "execution_count": 4,
      "outputs": []
    },
    {
      "cell_type": "code",
      "source": [
        "ext_results_path = \"/content/drive/MyDrive/14828 Browser Security Project/DoubleX_Results\"\n",
        "all_exts = os.listdir(ext_results_path)\n",
        "print(\"Number of extensions: \", len(all_exts))\n",
        "\n",
        "# all_exts_dict = {\"id\": all_exts}\n",
        "# df = pd.DataFrame(all_exts_dict)\n",
        "# df.to_csv(\"all_exts.csv\")"
      ],
      "metadata": {
        "colab": {
          "base_uri": "https://localhost:8080/"
        },
        "id": "UyrF0oKm9pzF",
        "outputId": "9c56b834-ccb6-4945-e3e6-a7cd95db9b17"
      },
      "execution_count": 5,
      "outputs": [
        {
          "output_type": "stream",
          "name": "stdout",
          "text": [
            "Number of extensions:  1465\n"
          ]
        }
      ]
    },
    {
      "cell_type": "markdown",
      "source": [
        "## Analysis: Dangers"
      ],
      "metadata": {
        "id": "vYu9NDURcA7R"
      }
    },
    {
      "cell_type": "code",
      "source": [
        "def extract_dangers(dangers):\n",
        "  if len(dangers) == 0:\n",
        "    return None\n",
        "  items = []  \n",
        "  for _,v in dangers.items():\n",
        "    items.append({'danger': v['danger'], 'value': v['value'], 'dataflow': bool(v['dataflow'])})\n",
        "  return pd.DataFrame(items)"
      ],
      "metadata": {
        "id": "FdPs94M0t7q_"
      },
      "execution_count": 6,
      "outputs": []
    },
    {
      "cell_type": "code",
      "source": [
        "def add_danger(df, danger_obj):\n",
        "  dangers = extract_dangers(danger_obj)\n",
        "  if dangers is not None:\n",
        "    return pd.concat([df, dangers])\n",
        "  return df"
      ],
      "metadata": {
        "id": "S0HAQiua6aSv"
      },
      "execution_count": 7,
      "outputs": []
    },
    {
      "cell_type": "code",
      "source": [
        "%%capture \n",
        "df_cols = ['danger', 'value', 'dataflow']\n",
        "\n",
        "df_cs_direct_dangers = pd.DataFrame(columns=df_cols)\n",
        "df_cs_indirect_dangers = pd.DataFrame(columns=df_cols)\n",
        "df_cs_exfiltration_dangers = pd.DataFrame(columns=df_cols)\n",
        "df_bp_direct_dangers = pd.DataFrame(columns=df_cols)\n",
        "df_bp_indirect_dangers = pd.DataFrame(columns=df_cols)\n",
        "df_bp_exfiltration_dangers = pd.DataFrame(columns=df_cols)"
      ],
      "metadata": {
        "id": "Eh8Y5rEAnZd6"
      },
      "execution_count": 8,
      "outputs": []
    },
    {
      "cell_type": "code",
      "source": [
        "%%capture \n",
        "for ext in all_exts:\n",
        "  data = pd.read_json(\"{}/{}\".format(ext_results_path, ext))\n",
        "  df_cs_direct_dangers = add_danger(df_cs_direct_dangers, data.cs.direct_dangers)\n",
        "  df_cs_indirect_dangers = add_danger(df_cs_indirect_dangers, data.cs.indirect_dangers)\n",
        "  df_cs_exfiltration_dangers = add_danger(df_cs_exfiltration_dangers, data.cs.exfiltration_dangers)\n",
        "  df_bp_direct_dangers = add_danger(df_bp_direct_dangers, data.bp.direct_dangers)\n",
        "  df_bp_indirect_dangers = add_danger(df_bp_indirect_dangers, data.bp.indirect_dangers)\n",
        "  df_bp_exfiltration_dangers = add_danger(df_bp_exfiltration_dangers, data.bp.exfiltration_dangers)"
      ],
      "metadata": {
        "id": "p3WKLO7WvTV9"
      },
      "execution_count": 9,
      "outputs": []
    },
    {
      "cell_type": "code",
      "source": [
        "direct_dangers_count = df_cs_direct_dangers.shape[0] + df_bp_direct_dangers.shape[0]\n",
        "print(f\"content script direct dangers: {df_cs_direct_dangers.shape[0]}\")\n",
        "print(f\"background script direct dangers: {df_bp_direct_dangers.shape[0]}\")\n",
        "print(f\"total direct dangers: {direct_dangers_count}\")"
      ],
      "metadata": {
        "colab": {
          "base_uri": "https://localhost:8080/"
        },
        "id": "6MNuBKb27LEf",
        "outputId": "ef41bc81-8389-466a-a62d-52965aac76cb"
      },
      "execution_count": 10,
      "outputs": [
        {
          "output_type": "stream",
          "name": "stdout",
          "text": [
            "content script direct dangers: 1271\n",
            "background script direct dangers: 588\n",
            "total direct dangers: 1859\n"
          ]
        }
      ]
    },
    {
      "cell_type": "code",
      "source": [
        "indirect_dangers_count = df_cs_indirect_dangers.shape[0] + df_bp_indirect_dangers.shape[0]\n",
        "print(f\"content script indirect dangers: {df_cs_indirect_dangers.shape[0]}\")\n",
        "print(f\"background script indirect dangers: {df_bp_indirect_dangers.shape[0]}\")\n",
        "print(f\"total indirect dangers: {indirect_dangers_count}\")"
      ],
      "metadata": {
        "colab": {
          "base_uri": "https://localhost:8080/"
        },
        "id": "rOSaUTej9e6i",
        "outputId": "bc0bbef3-748e-4616-8daa-57ea04165686"
      },
      "execution_count": 11,
      "outputs": [
        {
          "output_type": "stream",
          "name": "stdout",
          "text": [
            "content script indirect dangers: 637\n",
            "background script indirect dangers: 519\n",
            "total indirect dangers: 1156\n"
          ]
        }
      ]
    },
    {
      "cell_type": "code",
      "source": [
        "exfiltration_dangers_count = df_cs_exfiltration_dangers.shape[0] + df_bp_exfiltration_dangers.shape[0]\n",
        "print(f\"content script exfiltration dangers: {df_cs_exfiltration_dangers.shape[0]}\")\n",
        "print(f\"background script exfiltration dangers: {df_bp_exfiltration_dangers.shape[0]}\")\n",
        "print(f\"total exfiltration dangers: {exfiltration_dangers_count}\")"
      ],
      "metadata": {
        "colab": {
          "base_uri": "https://localhost:8080/"
        },
        "id": "rgiyOlxg9kBw",
        "outputId": "5f2c21f8-8bde-4fc9-d946-92f28dcf0eb8"
      },
      "execution_count": 12,
      "outputs": [
        {
          "output_type": "stream",
          "name": "stdout",
          "text": [
            "content script exfiltration dangers: 0\n",
            "background script exfiltration dangers: 617\n",
            "total exfiltration dangers: 617\n"
          ]
        }
      ]
    },
    {
      "cell_type": "code",
      "source": [
        "df_cs_direct_dangers.head(10)"
      ],
      "metadata": {
        "colab": {
          "base_uri": "https://localhost:8080/",
          "height": 363
        },
        "id": "3KaqavHX-cif",
        "outputId": "b20c22cf-7a91-4687-875f-e9bc781ab45d"
      },
      "execution_count": 13,
      "outputs": [
        {
          "output_type": "execute_result",
          "data": {
            "text/plain": [
              "                danger                                              value  \\\n",
              "0           setTimeout  setTimeout(<pdg_js.node.FunctionExpression obj...   \n",
              "0  XMLHttpRequest.open  XMLHttpRequest().open(d.method.toUpperCase(), ...   \n",
              "1           setTimeout                                      setTimeout(l)   \n",
              "2           setTimeout  x.slice.call({'arguments': {}, 0: '[None] argu...   \n",
              "3           setTimeout  setTimeout(<pdg_js.node.FunctionExpression obj...   \n",
              "4           setTimeout  setTimeout(<pdg_js.node.FunctionExpression obj...   \n",
              "5           setTimeout  setTimeout(<pdg_js.node.FunctionExpression obj...   \n",
              "6           setTimeout                                   setTimeout(t, 1)   \n",
              "7           setTimeout  window.setTimeout(this.track_callback(i, this....   \n",
              "8           setTimeout  setTimeout(<pdg_js.node.FunctionExpression obj...   \n",
              "\n",
              "  dataflow  \n",
              "0    False  \n",
              "0    False  \n",
              "1    False  \n",
              "2    False  \n",
              "3    False  \n",
              "4    False  \n",
              "5    False  \n",
              "6    False  \n",
              "7    False  \n",
              "8    False  "
            ],
            "text/html": [
              "\n",
              "  <div id=\"df-88cc1aa0-b324-4a1f-97cb-871390f9b067\">\n",
              "    <div class=\"colab-df-container\">\n",
              "      <div>\n",
              "<style scoped>\n",
              "    .dataframe tbody tr th:only-of-type {\n",
              "        vertical-align: middle;\n",
              "    }\n",
              "\n",
              "    .dataframe tbody tr th {\n",
              "        vertical-align: top;\n",
              "    }\n",
              "\n",
              "    .dataframe thead th {\n",
              "        text-align: right;\n",
              "    }\n",
              "</style>\n",
              "<table border=\"1\" class=\"dataframe\">\n",
              "  <thead>\n",
              "    <tr style=\"text-align: right;\">\n",
              "      <th></th>\n",
              "      <th>danger</th>\n",
              "      <th>value</th>\n",
              "      <th>dataflow</th>\n",
              "    </tr>\n",
              "  </thead>\n",
              "  <tbody>\n",
              "    <tr>\n",
              "      <th>0</th>\n",
              "      <td>setTimeout</td>\n",
              "      <td>setTimeout(&lt;pdg_js.node.FunctionExpression obj...</td>\n",
              "      <td>False</td>\n",
              "    </tr>\n",
              "    <tr>\n",
              "      <th>0</th>\n",
              "      <td>XMLHttpRequest.open</td>\n",
              "      <td>XMLHttpRequest().open(d.method.toUpperCase(), ...</td>\n",
              "      <td>False</td>\n",
              "    </tr>\n",
              "    <tr>\n",
              "      <th>1</th>\n",
              "      <td>setTimeout</td>\n",
              "      <td>setTimeout(l)</td>\n",
              "      <td>False</td>\n",
              "    </tr>\n",
              "    <tr>\n",
              "      <th>2</th>\n",
              "      <td>setTimeout</td>\n",
              "      <td>x.slice.call({'arguments': {}, 0: '[None] argu...</td>\n",
              "      <td>False</td>\n",
              "    </tr>\n",
              "    <tr>\n",
              "      <th>3</th>\n",
              "      <td>setTimeout</td>\n",
              "      <td>setTimeout(&lt;pdg_js.node.FunctionExpression obj...</td>\n",
              "      <td>False</td>\n",
              "    </tr>\n",
              "    <tr>\n",
              "      <th>4</th>\n",
              "      <td>setTimeout</td>\n",
              "      <td>setTimeout(&lt;pdg_js.node.FunctionExpression obj...</td>\n",
              "      <td>False</td>\n",
              "    </tr>\n",
              "    <tr>\n",
              "      <th>5</th>\n",
              "      <td>setTimeout</td>\n",
              "      <td>setTimeout(&lt;pdg_js.node.FunctionExpression obj...</td>\n",
              "      <td>False</td>\n",
              "    </tr>\n",
              "    <tr>\n",
              "      <th>6</th>\n",
              "      <td>setTimeout</td>\n",
              "      <td>setTimeout(t, 1)</td>\n",
              "      <td>False</td>\n",
              "    </tr>\n",
              "    <tr>\n",
              "      <th>7</th>\n",
              "      <td>setTimeout</td>\n",
              "      <td>window.setTimeout(this.track_callback(i, this....</td>\n",
              "      <td>False</td>\n",
              "    </tr>\n",
              "    <tr>\n",
              "      <th>8</th>\n",
              "      <td>setTimeout</td>\n",
              "      <td>setTimeout(&lt;pdg_js.node.FunctionExpression obj...</td>\n",
              "      <td>False</td>\n",
              "    </tr>\n",
              "  </tbody>\n",
              "</table>\n",
              "</div>\n",
              "      <button class=\"colab-df-convert\" onclick=\"convertToInteractive('df-88cc1aa0-b324-4a1f-97cb-871390f9b067')\"\n",
              "              title=\"Convert this dataframe to an interactive table.\"\n",
              "              style=\"display:none;\">\n",
              "        \n",
              "  <svg xmlns=\"http://www.w3.org/2000/svg\" height=\"24px\"viewBox=\"0 0 24 24\"\n",
              "       width=\"24px\">\n",
              "    <path d=\"M0 0h24v24H0V0z\" fill=\"none\"/>\n",
              "    <path d=\"M18.56 5.44l.94 2.06.94-2.06 2.06-.94-2.06-.94-.94-2.06-.94 2.06-2.06.94zm-11 1L8.5 8.5l.94-2.06 2.06-.94-2.06-.94L8.5 2.5l-.94 2.06-2.06.94zm10 10l.94 2.06.94-2.06 2.06-.94-2.06-.94-.94-2.06-.94 2.06-2.06.94z\"/><path d=\"M17.41 7.96l-1.37-1.37c-.4-.4-.92-.59-1.43-.59-.52 0-1.04.2-1.43.59L10.3 9.45l-7.72 7.72c-.78.78-.78 2.05 0 2.83L4 21.41c.39.39.9.59 1.41.59.51 0 1.02-.2 1.41-.59l7.78-7.78 2.81-2.81c.8-.78.8-2.07 0-2.86zM5.41 20L4 18.59l7.72-7.72 1.47 1.35L5.41 20z\"/>\n",
              "  </svg>\n",
              "      </button>\n",
              "      \n",
              "  <style>\n",
              "    .colab-df-container {\n",
              "      display:flex;\n",
              "      flex-wrap:wrap;\n",
              "      gap: 12px;\n",
              "    }\n",
              "\n",
              "    .colab-df-convert {\n",
              "      background-color: #E8F0FE;\n",
              "      border: none;\n",
              "      border-radius: 50%;\n",
              "      cursor: pointer;\n",
              "      display: none;\n",
              "      fill: #1967D2;\n",
              "      height: 32px;\n",
              "      padding: 0 0 0 0;\n",
              "      width: 32px;\n",
              "    }\n",
              "\n",
              "    .colab-df-convert:hover {\n",
              "      background-color: #E2EBFA;\n",
              "      box-shadow: 0px 1px 2px rgba(60, 64, 67, 0.3), 0px 1px 3px 1px rgba(60, 64, 67, 0.15);\n",
              "      fill: #174EA6;\n",
              "    }\n",
              "\n",
              "    [theme=dark] .colab-df-convert {\n",
              "      background-color: #3B4455;\n",
              "      fill: #D2E3FC;\n",
              "    }\n",
              "\n",
              "    [theme=dark] .colab-df-convert:hover {\n",
              "      background-color: #434B5C;\n",
              "      box-shadow: 0px 1px 3px 1px rgba(0, 0, 0, 0.15);\n",
              "      filter: drop-shadow(0px 1px 2px rgba(0, 0, 0, 0.3));\n",
              "      fill: #FFFFFF;\n",
              "    }\n",
              "  </style>\n",
              "\n",
              "      <script>\n",
              "        const buttonEl =\n",
              "          document.querySelector('#df-88cc1aa0-b324-4a1f-97cb-871390f9b067 button.colab-df-convert');\n",
              "        buttonEl.style.display =\n",
              "          google.colab.kernel.accessAllowed ? 'block' : 'none';\n",
              "\n",
              "        async function convertToInteractive(key) {\n",
              "          const element = document.querySelector('#df-88cc1aa0-b324-4a1f-97cb-871390f9b067');\n",
              "          const dataTable =\n",
              "            await google.colab.kernel.invokeFunction('convertToInteractive',\n",
              "                                                     [key], {});\n",
              "          if (!dataTable) return;\n",
              "\n",
              "          const docLinkHtml = 'Like what you see? Visit the ' +\n",
              "            '<a target=\"_blank\" href=https://colab.research.google.com/notebooks/data_table.ipynb>data table notebook</a>'\n",
              "            + ' to learn more about interactive tables.';\n",
              "          element.innerHTML = '';\n",
              "          dataTable['output_type'] = 'display_data';\n",
              "          await google.colab.output.renderOutput(dataTable, element);\n",
              "          const docLink = document.createElement('div');\n",
              "          docLink.innerHTML = docLinkHtml;\n",
              "          element.appendChild(docLink);\n",
              "        }\n",
              "      </script>\n",
              "    </div>\n",
              "  </div>\n",
              "  "
            ]
          },
          "metadata": {},
          "execution_count": 13
        }
      ]
    },
    {
      "cell_type": "code",
      "source": [
        "pd.concat([df_cs_direct_dangers, df_bp_direct_dangers]).groupby(['danger']).size()"
      ],
      "metadata": {
        "colab": {
          "base_uri": "https://localhost:8080/"
        },
        "id": "hm6ZKJWz-frQ",
        "outputId": "307bef10-be69-431c-f677-f2debf85da02"
      },
      "execution_count": 14,
      "outputs": [
        {
          "output_type": "execute_result",
          "data": {
            "text/plain": [
              "danger\n",
              "XMLHttpRequest.open          83\n",
              "document.write                8\n",
              "downloads.download           17\n",
              "eval                          7\n",
              "scripting.executeScript     234\n",
              "setInterval                 314\n",
              "setTimeout                 1186\n",
              "tabs.executeScript           10\n",
              "dtype: int64"
            ]
          },
          "metadata": {},
          "execution_count": 14
        }
      ]
    },
    {
      "cell_type": "code",
      "source": [
        "dir_df = pd.concat([df_cs_direct_dangers, df_bp_direct_dangers])\n",
        "sns.countplot(y=dir_df[\"danger\"])"
      ],
      "metadata": {
        "colab": {
          "base_uri": "https://localhost:8080/"
        },
        "id": "jGtsGtx0BRL1",
        "outputId": "76ae2e69-c7eb-4759-ae79-ac270a1ddb38"
      },
      "execution_count": null,
      "outputs": [
        {
          "output_type": "execute_result",
          "data": {
            "text/plain": [
              "<Axes: xlabel='count', ylabel='danger'>"
            ]
          },
          "metadata": {},
          "execution_count": 15
        }
      ]
    },
    {
      "cell_type": "code",
      "source": [
        "pd.concat([df_cs_indirect_dangers, df_bp_indirect_dangers]).groupby(['danger']).size()"
      ],
      "metadata": {
        "colab": {
          "base_uri": "https://localhost:8080/"
        },
        "id": "H3AJkf0m-_5X",
        "outputId": "3972bd39-2002-47e3-f0a3-ede0bf9f45e1"
      },
      "execution_count": 15,
      "outputs": [
        {
          "output_type": "execute_result",
          "data": {
            "text/plain": [
              "danger\n",
              "ajax                    51\n",
              "fetch                  576\n",
              "get                      9\n",
              "post                     9\n",
              "runtime.connect          2\n",
              "runtime.sendMessage    509\n",
              "dtype: int64"
            ]
          },
          "metadata": {},
          "execution_count": 15
        }
      ]
    },
    {
      "cell_type": "code",
      "source": [
        "indir_df = pd.concat([df_cs_indirect_dangers, df_bp_indirect_dangers])\n",
        "sns.countplot(y=indir_df[\"danger\"])"
      ],
      "metadata": {
        "colab": {
          "base_uri": "https://localhost:8080/",
          "height": 467
        },
        "id": "TUlC6JDWClss",
        "outputId": "c3d02eb2-8388-4be0-f4cf-0f45799b6efa"
      },
      "execution_count": 16,
      "outputs": [
        {
          "output_type": "execute_result",
          "data": {
            "text/plain": [
              "<Axes: xlabel='count', ylabel='danger'>"
            ]
          },
          "metadata": {},
          "execution_count": 16
        },
        {
          "output_type": "display_data",
          "data": {
            "text/plain": [
              "<Figure size 640x480 with 1 Axes>"
            ],
            "image/png": "[encoded data removed]"
          },
          "metadata": {}
        }
      ]
    },
    {
      "cell_type": "code",
      "source": [
        "pd.concat([df_cs_exfiltration_dangers, df_bp_exfiltration_dangers]).groupby(['danger']).size()"
      ],
      "metadata": {
        "colab": {
          "base_uri": "https://localhost:8080/"
        },
        "id": "t4PCF5OeAHVw",
        "outputId": "bcf22849-e022-49a6-f88b-f052449a93de"
      },
      "execution_count": 17,
      "outputs": [
        {
          "output_type": "stream",
          "name": "stderr",
          "text": [
            "<ipython-input-17-db9295d078c1>:1: FutureWarning: In a future version, object-dtype columns with all-bool values will not be included in reductions with bool_only=True. Explicitly cast to bool dtype instead.\n",
            "  pd.concat([df_cs_exfiltration_dangers, df_bp_exfiltration_dangers]).groupby(['danger']).size()\n"
          ]
        },
        {
          "output_type": "execute_result",
          "data": {
            "text/plain": [
              "danger\n",
              "bookmarks.getTree      4\n",
              "cookies.getAll        27\n",
              "history.search         2\n",
              "storage.local.get    355\n",
              "storage.sync.get     218\n",
              "topSites.get          11\n",
              "dtype: int64"
            ]
          },
          "metadata": {},
          "execution_count": 17
        }
      ]
    },
    {
      "cell_type": "code",
      "source": [
        "exfil_df = pd.concat([df_cs_exfiltration_dangers, df_bp_exfiltration_dangers])\n",
        "sns.countplot(y=exfil_df[\"danger\"])"
      ],
      "metadata": {
        "colab": {
          "base_uri": "https://localhost:8080/",
          "height": 523
        },
        "id": "EZVNDSdSCqA3",
        "outputId": "6ac0d052-f0a6-4c71-de5a-67100361bcca"
      },
      "execution_count": 18,
      "outputs": [
        {
          "output_type": "stream",
          "name": "stderr",
          "text": [
            "<ipython-input-18-572c4fe29dcc>:1: FutureWarning: In a future version, object-dtype columns with all-bool values will not be included in reductions with bool_only=True. Explicitly cast to bool dtype instead.\n",
            "  exfil_df = pd.concat([df_cs_exfiltration_dangers, df_bp_exfiltration_dangers])\n"
          ]
        },
        {
          "output_type": "execute_result",
          "data": {
            "text/plain": [
              "<Axes: xlabel='count', ylabel='danger'>"
            ]
          },
          "metadata": {},
          "execution_count": 18
        },
        {
          "output_type": "display_data",
          "data": {
            "text/plain": [
              "<Figure size 640x480 with 1 Axes>"
            ],
            "image/png": "[encoded data removed]"
          },
          "metadata": {}
        }
      ]
    },
    {
      "cell_type": "markdown",
      "source": [
        "## Analysis: Extensions"
      ],
      "metadata": {
        "id": "9F0n5tkecEpj"
      }
    },
    {
      "cell_type": "markdown",
      "source": [
        "### Build Dataset\n",
        "\n",
        "Combine the following:\n",
        "1. Extension metadata\n",
        "2. Manifest file analysis\n",
        "3. DoubleX analysis"
      ],
      "metadata": {
        "id": "62754zrGcJfF"
      }
    },
    {
      "cell_type": "code",
      "source": [
        "# !unzip \"/content/drive/MyDrive/14828 Browser Security Project/result_zips/metadata.zip\" -d \"/content/drive/MyDrive/14828 Browser Security Project/Metadata_Results\""
      ],
      "metadata": {
        "id": "BlShEyIXcIP6"
      },
      "execution_count": 19,
      "outputs": []
    },
    {
      "cell_type": "code",
      "source": [
        "# !unzip \"/content/drive/MyDrive/14828 Browser Security Project/result_zips/manifest_analysis.zip\" -d \"/content/drive/MyDrive/14828 Browser Security Project/Manifest_Analysis_Results\""
      ],
      "metadata": {
        "id": "ROnqejVQeHmh"
      },
      "execution_count": 20,
      "outputs": []
    },
    {
      "cell_type": "code",
      "source": [
        "ext_df_filepath = \"/content/drive/MyDrive/14828 Browser Security Project/ext_df.csv\""
      ],
      "metadata": {
        "id": "mT62sHPHthTA"
      },
      "execution_count": 39,
      "outputs": []
    },
    {
      "cell_type": "code",
      "source": [
        "%%capture\n",
        "if not os.path.exists(ext_df_filepath):\n",
        "    ext_df = pd.DataFrame()\n",
        "\n",
        "    for i, ext_id in enumerate(all_exts):\n",
        "        print(\"Creating row for extension:\", i)\n",
        "\n",
        "        # load JSON files\n",
        "        metadata_filepath = f\"/content/drive/MyDrive/14828 Browser Security Project/Metadata_Results/metadata/{ext_id}.json\"\n",
        "        manifest_analysis_filepath = f\"/content/drive/MyDrive/14828 Browser Security Project/Manifest_Analysis_Results/manifest_analysis/{ext_id}.json\"\n",
        "        doublex_analysis_filepath = f\"/content/drive/MyDrive/14828 Browser Security Project/DoubleX_Results/{ext_id}\"\n",
        "\n",
        "        if os.path.exists(metadata_filepath):\n",
        "          with open(metadata_filepath) as f:\n",
        "            metadata_dict = json.load(f)\n",
        "        else:\n",
        "          continue\n",
        "\n",
        "        if os.path.exists(manifest_analysis_filepath):\n",
        "          with open(manifest_analysis_filepath) as f:\n",
        "            manifest_analysis_dict = json.load(f)\n",
        "        else:\n",
        "          continue\n",
        "\n",
        "        if os.path.exists(doublex_analysis_filepath):\n",
        "          with open(doublex_analysis_filepath) as f:\n",
        "            doublex_analysis_dict = pd.read_json(f)\n",
        "        else:\n",
        "          continue\n",
        "\n",
        "        # create row (dict) for extension\n",
        "        ext_row = {\n",
        "            \"extension_id\": str(metadata_dict[\"extension_id\"]),\n",
        "            \"avg_rating\": float(metadata_dict[\"avg_rating\"]),\n",
        "            \"num_users_who_rated\": int(metadata_dict[\"num_users_who_rated\"]),\n",
        "            \"num_users_who_downloaded\": int(metadata_dict[\"num_users_who_downloaded\"]),\n",
        "            \"category\": str(metadata_dict[\"category\"]),\n",
        "            \"num_api_permissions\": int(manifest_analysis_dict[\"num_api_permissions\"]),\n",
        "            \"num_host_permissions\": int(manifest_analysis_dict[\"num_host_permissions\"]),\n",
        "            \"is_csp_declared\": int(manifest_analysis_dict[\"is_csp_declared\"]),\n",
        "            \"num_wars\": int(manifest_analysis_dict[\"num_wars\"]),\n",
        "            \"num_ext_conn\": int(manifest_analysis_dict[\"num_ext_conn\"])\n",
        "        }\n",
        "\n",
        "        cs_dangers = doublex_analysis_dict['cs']\n",
        "        ext_row[\"num_cs_direct_dangers\"] = len(cs_dangers['direct_dangers'].keys())\n",
        "        ext_row[\"num_cs_indirect_dangers\"] = len(cs_dangers['indirect_dangers'].keys())\n",
        "        ext_row[\"num_cs_exfil_dangers\"] = len(cs_dangers['exfiltration_dangers'].keys())\n",
        "\n",
        "        bp_dangers = doublex_analysis_dict['bp']\n",
        "        ext_row[\"num_bp_direct_dangers\"] = len(bp_dangers['direct_dangers'].keys())\n",
        "        ext_row[\"num_bp_indirect_dangers\"] = len(bp_dangers['indirect_dangers'].keys())\n",
        "        ext_row[\"num_bp_exfil_dangers\"] = len(bp_dangers['exfiltration_dangers'].keys())\n",
        "\n",
        "        # append row to dataset\n",
        "        ext_df = ext_df.append(ext_row, ignore_index=True)\n",
        "      \n",
        "    # save ext_df for future loading\n",
        "    ext_df.to_csv(\"/content/drive/MyDrive/14828 Browser Security Project/ext_df.csv\")\n",
        "else:\n",
        "    ext_df = pd.read_csv(ext_df_filepath, index_col=0)"
      ],
      "metadata": {
        "id": "xNFR-zHAlVUQ"
      },
      "execution_count": 44,
      "outputs": []
    },
    {
      "cell_type": "code",
      "source": [
        "ext_df"
      ],
      "metadata": {
        "colab": {
          "base_uri": "https://localhost:8080/",
          "height": 704
        },
        "id": "_V3gfwgCow14",
        "outputId": "d08ee1bf-e033-4ac2-a2cf-8b77033edf6f"
      },
      "execution_count": 51,
      "outputs": [
        {
          "output_type": "execute_result",
          "data": {
            "text/plain": [
              "                          extension_id  avg_rating  num_users_who_rated  \\\n",
              "0     hfmgojlegmbjoacgdocldnbgndbehejc         0.0                    0   \n",
              "1     ifniehnojokofonkklceecajlecbcfjl         0.0                    0   \n",
              "2     ededkpbhbbdncjajeklocejfkedhhikm         0.0                    0   \n",
              "3     eokcnpmhpilgomehaaboihllcgpmncko         0.0                    0   \n",
              "4     jnbmekkgllcampcfjkobpffkfglolekn         5.0                    2   \n",
              "...                                ...         ...                  ...   \n",
              "1459  komooichefkcbdhhhicpplicceldpcmn         5.0                    1   \n",
              "1460  phgkmeaegpeoaobbicikppbbidcljhok         0.0                    0   \n",
              "1461  oodgegammlfboachpohoiodepmifalke         5.0                    2   \n",
              "1462  fafmeoecefijagoogbkipapmjdnmbkgi         0.0                    0   \n",
              "1463  ignfaffbjafecnkmmddgpfejoipenljj         5.0                   13   \n",
              "\n",
              "      num_users_who_downloaded                category  num_api_permissions  \\\n",
              "0                            5            Productivity                    0   \n",
              "1                           10         Developer Tools                    2   \n",
              "2                            3           Accessibility                    1   \n",
              "3                          382            Productivity                    3   \n",
              "4                            8            Productivity                    4   \n",
              "...                        ...                     ...                  ...   \n",
              "1459                        30  Social & Communication                    5   \n",
              "1460                        12            Productivity                    5   \n",
              "1461                         3            Productivity                    0   \n",
              "1462                        33            Productivity                    4   \n",
              "1463                        18                Shopping                    0   \n",
              "\n",
              "      num_host_permissions  is_csp_declared  num_wars  num_ext_conn  \\\n",
              "0                        0                0         0             0   \n",
              "1                        0                1         0             0   \n",
              "2                        0                0         0             0   \n",
              "3                        0                0         0             0   \n",
              "4                        1                0         4             0   \n",
              "...                    ...              ...       ...           ...   \n",
              "1459                     0                0         0             0   \n",
              "1460                     1                1         3             0   \n",
              "1461                     0                0         0             0   \n",
              "1462                     3                0         0             0   \n",
              "1463                     0                0         0             0   \n",
              "\n",
              "      num_cs_direct_dangers  num_cs_indirect_dangers  num_cs_exfil_dangers  \\\n",
              "0                       0.0                      0.0                   0.0   \n",
              "1                       1.0                      3.0                   0.0   \n",
              "2                       0.0                      0.0                   0.0   \n",
              "3                       0.0                      0.0                   0.0   \n",
              "4                       0.0                      0.0                   0.0   \n",
              "...                     ...                      ...                   ...   \n",
              "1459                    0.0                      0.0                   0.0   \n",
              "1460                    0.0                      6.0                   0.0   \n",
              "1461                    0.0                      0.0                   0.0   \n",
              "1462                    0.0                      0.0                   0.0   \n",
              "1463                    0.0                      0.0                   0.0   \n",
              "\n",
              "      num_bp_direct_dangers  num_bp_indirect_dangers  num_bp_exfil_dangers  \n",
              "0                       0.0                      0.0                   0.0  \n",
              "1                       0.0                      0.0                   1.0  \n",
              "2                       0.0                      0.0                   0.0  \n",
              "3                       0.0                      0.0                   0.0  \n",
              "4                       3.0                      0.0                   0.0  \n",
              "...                     ...                      ...                   ...  \n",
              "1459                    0.0                      0.0                   0.0  \n",
              "1460                    5.0                      3.0                   5.0  \n",
              "1461                    0.0                      0.0                   0.0  \n",
              "1462                    0.0                      1.0                   3.0  \n",
              "1463                    0.0                      0.0                   0.0  \n",
              "\n",
              "[1464 rows x 16 columns]"
            ],
            "text/html": [
              "\n",
              "  <div id=\"df-608c377c-9802-44de-8798-a4c8d18209f8\">\n",
              "    <div class=\"colab-df-container\">\n",
              "      <div>\n",
              "<style scoped>\n",
              "    .dataframe tbody tr th:only-of-type {\n",
              "        vertical-align: middle;\n",
              "    }\n",
              "\n",
              "    .dataframe tbody tr th {\n",
              "        vertical-align: top;\n",
              "    }\n",
              "\n",
              "    .dataframe thead th {\n",
              "        text-align: right;\n",
              "    }\n",
              "</style>\n",
              "<table border=\"1\" class=\"dataframe\">\n",
              "  <thead>\n",
              "    <tr style=\"text-align: right;\">\n",
              "      <th></th>\n",
              "      <th>extension_id</th>\n",
              "      <th>avg_rating</th>\n",
              "      <th>num_users_who_rated</th>\n",
              "      <th>num_users_who_downloaded</th>\n",
              "      <th>category</th>\n",
              "      <th>num_api_permissions</th>\n",
              "      <th>num_host_permissions</th>\n",
              "      <th>is_csp_declared</th>\n",
              "      <th>num_wars</th>\n",
              "      <th>num_ext_conn</th>\n",
              "      <th>num_cs_direct_dangers</th>\n",
              "      <th>num_cs_indirect_dangers</th>\n",
              "      <th>num_cs_exfil_dangers</th>\n",
              "      <th>num_bp_direct_dangers</th>\n",
              "      <th>num_bp_indirect_dangers</th>\n",
              "      <th>num_bp_exfil_dangers</th>\n",
              "    </tr>\n",
              "  </thead>\n",
              "  <tbody>\n",
              "    <tr>\n",
              "      <th>0</th>\n",
              "      <td>hfmgojlegmbjoacgdocldnbgndbehejc</td>\n",
              "      <td>0.0</td>\n",
              "      <td>0</td>\n",
              "      <td>5</td>\n",
              "      <td>Productivity</td>\n",
              "      <td>0</td>\n",
              "      <td>0</td>\n",
              "      <td>0</td>\n",
              "      <td>0</td>\n",
              "      <td>0</td>\n",
              "      <td>0.0</td>\n",
              "      <td>0.0</td>\n",
              "      <td>0.0</td>\n",
              "      <td>0.0</td>\n",
              "      <td>0.0</td>\n",
              "      <td>0.0</td>\n",
              "    </tr>\n",
              "    <tr>\n",
              "      <th>1</th>\n",
              "      <td>ifniehnojokofonkklceecajlecbcfjl</td>\n",
              "      <td>0.0</td>\n",
              "      <td>0</td>\n",
              "      <td>10</td>\n",
              "      <td>Developer Tools</td>\n",
              "      <td>2</td>\n",
              "      <td>0</td>\n",
              "      <td>1</td>\n",
              "      <td>0</td>\n",
              "      <td>0</td>\n",
              "      <td>1.0</td>\n",
              "      <td>3.0</td>\n",
              "      <td>0.0</td>\n",
              "      <td>0.0</td>\n",
              "      <td>0.0</td>\n",
              "      <td>1.0</td>\n",
              "    </tr>\n",
              "    <tr>\n",
              "      <th>2</th>\n",
              "      <td>ededkpbhbbdncjajeklocejfkedhhikm</td>\n",
              "      <td>0.0</td>\n",
              "      <td>0</td>\n",
              "      <td>3</td>\n",
              "      <td>Accessibility</td>\n",
              "      <td>1</td>\n",
              "      <td>0</td>\n",
              "      <td>0</td>\n",
              "      <td>0</td>\n",
              "      <td>0</td>\n",
              "      <td>0.0</td>\n",
              "      <td>0.0</td>\n",
              "      <td>0.0</td>\n",
              "      <td>0.0</td>\n",
              "      <td>0.0</td>\n",
              "      <td>0.0</td>\n",
              "    </tr>\n",
              "    <tr>\n",
              "      <th>3</th>\n",
              "      <td>eokcnpmhpilgomehaaboihllcgpmncko</td>\n",
              "      <td>0.0</td>\n",
              "      <td>0</td>\n",
              "      <td>382</td>\n",
              "      <td>Productivity</td>\n",
              "      <td>3</td>\n",
              "      <td>0</td>\n",
              "      <td>0</td>\n",
              "      <td>0</td>\n",
              "      <td>0</td>\n",
              "      <td>0.0</td>\n",
              "      <td>0.0</td>\n",
              "      <td>0.0</td>\n",
              "      <td>0.0</td>\n",
              "      <td>0.0</td>\n",
              "      <td>0.0</td>\n",
              "    </tr>\n",
              "    <tr>\n",
              "      <th>4</th>\n",
              "      <td>jnbmekkgllcampcfjkobpffkfglolekn</td>\n",
              "      <td>5.0</td>\n",
              "      <td>2</td>\n",
              "      <td>8</td>\n",
              "      <td>Productivity</td>\n",
              "      <td>4</td>\n",
              "      <td>1</td>\n",
              "      <td>0</td>\n",
              "      <td>4</td>\n",
              "      <td>0</td>\n",
              "      <td>0.0</td>\n",
              "      <td>0.0</td>\n",
              "      <td>0.0</td>\n",
              "      <td>3.0</td>\n",
              "      <td>0.0</td>\n",
              "      <td>0.0</td>\n",
              "    </tr>\n",
              "    <tr>\n",
              "      <th>...</th>\n",
              "      <td>...</td>\n",
              "      <td>...</td>\n",
              "      <td>...</td>\n",
              "      <td>...</td>\n",
              "      <td>...</td>\n",
              "      <td>...</td>\n",
              "      <td>...</td>\n",
              "      <td>...</td>\n",
              "      <td>...</td>\n",
              "      <td>...</td>\n",
              "      <td>...</td>\n",
              "      <td>...</td>\n",
              "      <td>...</td>\n",
              "      <td>...</td>\n",
              "      <td>...</td>\n",
              "      <td>...</td>\n",
              "    </tr>\n",
              "    <tr>\n",
              "      <th>1459</th>\n",
              "      <td>komooichefkcbdhhhicpplicceldpcmn</td>\n",
              "      <td>5.0</td>\n",
              "      <td>1</td>\n",
              "      <td>30</td>\n",
              "      <td>Social &amp; Communication</td>\n",
              "      <td>5</td>\n",
              "      <td>0</td>\n",
              "      <td>0</td>\n",
              "      <td>0</td>\n",
              "      <td>0</td>\n",
              "      <td>0.0</td>\n",
              "      <td>0.0</td>\n",
              "      <td>0.0</td>\n",
              "      <td>0.0</td>\n",
              "      <td>0.0</td>\n",
              "      <td>0.0</td>\n",
              "    </tr>\n",
              "    <tr>\n",
              "      <th>1460</th>\n",
              "      <td>phgkmeaegpeoaobbicikppbbidcljhok</td>\n",
              "      <td>0.0</td>\n",
              "      <td>0</td>\n",
              "      <td>12</td>\n",
              "      <td>Productivity</td>\n",
              "      <td>5</td>\n",
              "      <td>1</td>\n",
              "      <td>1</td>\n",
              "      <td>3</td>\n",
              "      <td>0</td>\n",
              "      <td>0.0</td>\n",
              "      <td>6.0</td>\n",
              "      <td>0.0</td>\n",
              "      <td>5.0</td>\n",
              "      <td>3.0</td>\n",
              "      <td>5.0</td>\n",
              "    </tr>\n",
              "    <tr>\n",
              "      <th>1461</th>\n",
              "      <td>oodgegammlfboachpohoiodepmifalke</td>\n",
              "      <td>5.0</td>\n",
              "      <td>2</td>\n",
              "      <td>3</td>\n",
              "      <td>Productivity</td>\n",
              "      <td>0</td>\n",
              "      <td>0</td>\n",
              "      <td>0</td>\n",
              "      <td>0</td>\n",
              "      <td>0</td>\n",
              "      <td>0.0</td>\n",
              "      <td>0.0</td>\n",
              "      <td>0.0</td>\n",
              "      <td>0.0</td>\n",
              "      <td>0.0</td>\n",
              "      <td>0.0</td>\n",
              "    </tr>\n",
              "    <tr>\n",
              "      <th>1462</th>\n",
              "      <td>fafmeoecefijagoogbkipapmjdnmbkgi</td>\n",
              "      <td>0.0</td>\n",
              "      <td>0</td>\n",
              "      <td>33</td>\n",
              "      <td>Productivity</td>\n",
              "      <td>4</td>\n",
              "      <td>3</td>\n",
              "      <td>0</td>\n",
              "      <td>0</td>\n",
              "      <td>0</td>\n",
              "      <td>0.0</td>\n",
              "      <td>0.0</td>\n",
              "      <td>0.0</td>\n",
              "      <td>0.0</td>\n",
              "      <td>1.0</td>\n",
              "      <td>3.0</td>\n",
              "    </tr>\n",
              "    <tr>\n",
              "      <th>1463</th>\n",
              "      <td>ignfaffbjafecnkmmddgpfejoipenljj</td>\n",
              "      <td>5.0</td>\n",
              "      <td>13</td>\n",
              "      <td>18</td>\n",
              "      <td>Shopping</td>\n",
              "      <td>0</td>\n",
              "      <td>0</td>\n",
              "      <td>0</td>\n",
              "      <td>0</td>\n",
              "      <td>0</td>\n",
              "      <td>0.0</td>\n",
              "      <td>0.0</td>\n",
              "      <td>0.0</td>\n",
              "      <td>0.0</td>\n",
              "      <td>0.0</td>\n",
              "      <td>0.0</td>\n",
              "    </tr>\n",
              "  </tbody>\n",
              "</table>\n",
              "<p>1464 rows × 16 columns</p>\n",
              "</div>\n",
              "      <button class=\"colab-df-convert\" onclick=\"convertToInteractive('df-608c377c-9802-44de-8798-a4c8d18209f8')\"\n",
              "              title=\"Convert this dataframe to an interactive table.\"\n",
              "              style=\"display:none;\">\n",
              "        \n",
              "  <svg xmlns=\"http://www.w3.org/2000/svg\" height=\"24px\"viewBox=\"0 0 24 24\"\n",
              "       width=\"24px\">\n",
              "    <path d=\"M0 0h24v24H0V0z\" fill=\"none\"/>\n",
              "    <path d=\"M18.56 5.44l.94 2.06.94-2.06 2.06-.94-2.06-.94-.94-2.06-.94 2.06-2.06.94zm-11 1L8.5 8.5l.94-2.06 2.06-.94-2.06-.94L8.5 2.5l-.94 2.06-2.06.94zm10 10l.94 2.06.94-2.06 2.06-.94-2.06-.94-.94-2.06-.94 2.06-2.06.94z\"/><path d=\"M17.41 7.96l-1.37-1.37c-.4-.4-.92-.59-1.43-.59-.52 0-1.04.2-1.43.59L10.3 9.45l-7.72 7.72c-.78.78-.78 2.05 0 2.83L4 21.41c.39.39.9.59 1.41.59.51 0 1.02-.2 1.41-.59l7.78-7.78 2.81-2.81c.8-.78.8-2.07 0-2.86zM5.41 20L4 18.59l7.72-7.72 1.47 1.35L5.41 20z\"/>\n",
              "  </svg>\n",
              "      </button>\n",
              "      \n",
              "  <style>\n",
              "    .colab-df-container {\n",
              "      display:flex;\n",
              "      flex-wrap:wrap;\n",
              "      gap: 12px;\n",
              "    }\n",
              "\n",
              "    .colab-df-convert {\n",
              "      background-color: #E8F0FE;\n",
              "      border: none;\n",
              "      border-radius: 50%;\n",
              "      cursor: pointer;\n",
              "      display: none;\n",
              "      fill: #1967D2;\n",
              "      height: 32px;\n",
              "      padding: 0 0 0 0;\n",
              "      width: 32px;\n",
              "    }\n",
              "\n",
              "    .colab-df-convert:hover {\n",
              "      background-color: #E2EBFA;\n",
              "      box-shadow: 0px 1px 2px rgba(60, 64, 67, 0.3), 0px 1px 3px 1px rgba(60, 64, 67, 0.15);\n",
              "      fill: #174EA6;\n",
              "    }\n",
              "\n",
              "    [theme=dark] .colab-df-convert {\n",
              "      background-color: #3B4455;\n",
              "      fill: #D2E3FC;\n",
              "    }\n",
              "\n",
              "    [theme=dark] .colab-df-convert:hover {\n",
              "      background-color: #434B5C;\n",
              "      box-shadow: 0px 1px 3px 1px rgba(0, 0, 0, 0.15);\n",
              "      filter: drop-shadow(0px 1px 2px rgba(0, 0, 0, 0.3));\n",
              "      fill: #FFFFFF;\n",
              "    }\n",
              "  </style>\n",
              "\n",
              "      <script>\n",
              "        const buttonEl =\n",
              "          document.querySelector('#df-608c377c-9802-44de-8798-a4c8d18209f8 button.colab-df-convert');\n",
              "        buttonEl.style.display =\n",
              "          google.colab.kernel.accessAllowed ? 'block' : 'none';\n",
              "\n",
              "        async function convertToInteractive(key) {\n",
              "          const element = document.querySelector('#df-608c377c-9802-44de-8798-a4c8d18209f8');\n",
              "          const dataTable =\n",
              "            await google.colab.kernel.invokeFunction('convertToInteractive',\n",
              "                                                     [key], {});\n",
              "          if (!dataTable) return;\n",
              "\n",
              "          const docLinkHtml = 'Like what you see? Visit the ' +\n",
              "            '<a target=\"_blank\" href=https://colab.research.google.com/notebooks/data_table.ipynb>data table notebook</a>'\n",
              "            + ' to learn more about interactive tables.';\n",
              "          element.innerHTML = '';\n",
              "          dataTable['output_type'] = 'display_data';\n",
              "          await google.colab.output.renderOutput(dataTable, element);\n",
              "          const docLink = document.createElement('div');\n",
              "          docLink.innerHTML = docLinkHtml;\n",
              "          element.appendChild(docLink);\n",
              "        }\n",
              "      </script>\n",
              "    </div>\n",
              "  </div>\n",
              "  "
            ]
          },
          "metadata": {},
          "execution_count": 51
        }
      ]
    },
    {
      "cell_type": "markdown",
      "source": [
        "### Exploratory Data Analysis"
      ],
      "metadata": {
        "id": "oUJE7LzpxTaS"
      }
    },
    {
      "cell_type": "markdown",
      "source": [
        "#### Extension Metadata"
      ],
      "metadata": {
        "id": "FtG_UtE7zk94"
      }
    },
    {
      "cell_type": "code",
      "source": [
        "sns.histplot(data=ext_df, x=\"avg_rating\")"
      ],
      "metadata": {
        "colab": {
          "base_uri": "https://localhost:8080/",
          "height": 468
        },
        "id": "F9X8MB9AxRSv",
        "outputId": "a6628ebf-d94a-425f-e4da-54d638762d71"
      },
      "execution_count": 46,
      "outputs": [
        {
          "output_type": "execute_result",
          "data": {
            "text/plain": [
              "<Axes: xlabel='avg_rating', ylabel='Count'>"
            ]
          },
          "metadata": {},
          "execution_count": 46
        },
        {
          "output_type": "display_data",
          "data": {
            "text/plain": [
              "<Figure size 640x480 with 1 Axes>"
            ],
            "image/png": "[encoded data removed]"
          },
          "metadata": {}
        }
      ]
    },
    {
      "cell_type": "code",
      "source": [
        "sns.countplot(data=ext_df, y=\"category\")"
      ],
      "metadata": {
        "colab": {
          "base_uri": "https://localhost:8080/",
          "height": 467
        },
        "id": "mvgKe517y-64",
        "outputId": "cad5125a-1b3d-4938-a059-562da21b4f4f"
      },
      "execution_count": 54,
      "outputs": [
        {
          "output_type": "execute_result",
          "data": {
            "text/plain": [
              "<Axes: xlabel='count', ylabel='category'>"
            ]
          },
          "metadata": {},
          "execution_count": 54
        },
        {
          "output_type": "display_data",
          "data": {
            "text/plain": [
              "<Figure size 640x480 with 1 Axes>"
            ],
            "image/png": "[encoded data removed]"
          },
          "metadata": {}
        }
      ]
    },
    {
      "cell_type": "markdown",
      "source": [
        "#### Manifest File Analysis"
      ],
      "metadata": {
        "id": "WBD3yrpOzoP9"
      }
    },
    {
      "cell_type": "markdown",
      "source": [
        "Interesting observations:\n",
        "1. Gifs autoplay for Google has 190 host permissions\n",
        "  1. https://chrome.google.com/webstore/detail/gifs-autoplay-for-google/mfaepkdaodjclepbclabjbigjeohfdje\n",
        "  1. hosts: all google domains"
      ],
      "metadata": {
        "id": "NoZ2WKk50L6q"
      }
    },
    {
      "cell_type": "code",
      "source": [
        "sns.histplot(data=ext_df, x=\"num_api_permissions\")"
      ],
      "metadata": {
        "colab": {
          "base_uri": "https://localhost:8080/",
          "height": 468
        },
        "id": "7LSe16bJxk0E",
        "outputId": "90648296-741a-47ad-bba6-4c34abce4ff0"
      },
      "execution_count": 47,
      "outputs": [
        {
          "output_type": "execute_result",
          "data": {
            "text/plain": [
              "<Axes: xlabel='num_api_permissions', ylabel='Count'>"
            ]
          },
          "metadata": {},
          "execution_count": 47
        },
        {
          "output_type": "display_data",
          "data": {
            "text/plain": [
              "<Figure size 640x480 with 1 Axes>"
            ],
            "image/png": "[encoded data removed]"
          },
          "metadata": {}
        }
      ]
    },
    {
      "cell_type": "code",
      "source": [
        "sns.histplot(data=ext_df, x=\"num_host_permissions\")\n",
        "print(\"Min\", min(ext_df[\"num_host_permissions\"]))\n",
        "print(\"Max\", max(ext_df[\"num_host_permissions\"])) "
      ],
      "metadata": {
        "colab": {
          "base_uri": "https://localhost:8080/",
          "height": 486
        },
        "id": "StQArDFrxsCV",
        "outputId": "19883de1-2a67-40d5-d6ee-ab124ba7a193"
      },
      "execution_count": 50,
      "outputs": [
        {
          "output_type": "stream",
          "name": "stdout",
          "text": [
            "Min 0\n",
            "Max 190\n"
          ]
        },
        {
          "output_type": "display_data",
          "data": {
            "text/plain": [
              "<Figure size 640x480 with 1 Axes>"
            ],
            "image/png": "[encoded data removed]"
          },
          "metadata": {}
        }
      ]
    },
    {
      "cell_type": "code",
      "source": [
        "sns.countplot(data=ext_df, x=\"is_csp_declared\")"
      ],
      "metadata": {
        "colab": {
          "base_uri": "https://localhost:8080/",
          "height": 468
        },
        "id": "Hx_utxgry01C",
        "outputId": "b458661d-c035-4a21-eb08-198bb1b74e1d"
      },
      "execution_count": 52,
      "outputs": [
        {
          "output_type": "execute_result",
          "data": {
            "text/plain": [
              "<Axes: xlabel='is_csp_declared', ylabel='count'>"
            ]
          },
          "metadata": {},
          "execution_count": 52
        },
        {
          "output_type": "display_data",
          "data": {
            "text/plain": [
              "<Figure size 640x480 with 1 Axes>"
            ],
            "image/png": "[encoded data removed]"
          },
          "metadata": {}
        }
      ]
    },
    {
      "cell_type": "code",
      "source": [
        "sns.histplot(data=ext_df, x=\"num_wars\")"
      ],
      "metadata": {
        "colab": {
          "base_uri": "https://localhost:8080/",
          "height": 467
        },
        "id": "ZQGLIaX9zIxw",
        "outputId": "ddff2591-e595-47de-8505-e45279ea4104"
      },
      "execution_count": 55,
      "outputs": [
        {
          "output_type": "execute_result",
          "data": {
            "text/plain": [
              "<Axes: xlabel='num_wars', ylabel='Count'>"
            ]
          },
          "metadata": {},
          "execution_count": 55
        },
        {
          "output_type": "display_data",
          "data": {
            "text/plain": [
              "<Figure size 640x480 with 1 Axes>"
            ],
            "image/png": "[encoded data removed]"
          },
          "metadata": {}
        }
      ]
    },
    {
      "cell_type": "code",
      "source": [
        "sns.countplot(data=ext_df, x=\"num_ext_conn\")"
      ],
      "metadata": {
        "colab": {
          "base_uri": "https://localhost:8080/",
          "height": 467
        },
        "id": "0AdA2YrdzSx2",
        "outputId": "a8cfa4c1-4c5a-4aab-d3f8-95982c6c7ed7"
      },
      "execution_count": 58,
      "outputs": [
        {
          "output_type": "execute_result",
          "data": {
            "text/plain": [
              "<Axes: xlabel='num_ext_conn', ylabel='count'>"
            ]
          },
          "metadata": {},
          "execution_count": 58
        },
        {
          "output_type": "display_data",
          "data": {
            "text/plain": [
              "<Figure size 640x480 with 1 Axes>"
            ],
            "image/png": "[encoded data removed]"
          },
          "metadata": {}
        }
      ]
    },
    {
      "cell_type": "markdown",
      "source": [
        "#### DoubleX Analysis\n",
        "\n",
        "Interesting observations:\n",
        "1. Exfiltration dangers only from BP "
      ],
      "metadata": {
        "id": "8SLzymZ7zsgF"
      }
    },
    {
      "cell_type": "code",
      "source": [
        "sns.histplot(data=ext_df, x=\"num_cs_direct_dangers\")"
      ],
      "metadata": {
        "colab": {
          "base_uri": "https://localhost:8080/",
          "height": 468
        },
        "id": "bP3fqOahzr6c",
        "outputId": "651966d1-3377-45b4-e8f2-bc2931e07b26"
      },
      "execution_count": 59,
      "outputs": [
        {
          "output_type": "execute_result",
          "data": {
            "text/plain": [
              "<Axes: xlabel='num_cs_direct_dangers', ylabel='Count'>"
            ]
          },
          "metadata": {},
          "execution_count": 59
        },
        {
          "output_type": "display_data",
          "data": {
            "text/plain": [
              "<Figure size 640x480 with 1 Axes>"
            ],
            "image/png": "[encoded data removed]"
          },
          "metadata": {}
        }
      ]
    },
    {
      "cell_type": "code",
      "source": [
        "sns.histplot(data=ext_df, x=\"num_cs_indirect_dangers\")"
      ],
      "metadata": {
        "colab": {
          "base_uri": "https://localhost:8080/",
          "height": 473
        },
        "id": "BgLmlZAyzZ8K",
        "outputId": "0536f5bb-9810-48e2-d1ca-4576d334c1ae"
      },
      "execution_count": 60,
      "outputs": [
        {
          "output_type": "execute_result",
          "data": {
            "text/plain": [
              "<Axes: xlabel='num_cs_indirect_dangers', ylabel='Count'>"
            ]
          },
          "metadata": {},
          "execution_count": 60
        },
        {
          "output_type": "display_data",
          "data": {
            "text/plain": [
              "<Figure size 640x480 with 1 Axes>"
            ],
            "image/png": "[encoded data removed]"
          },
          "metadata": {}
        }
      ]
    },
    {
      "cell_type": "code",
      "source": [
        "sns.countplot(data=ext_df, x=\"num_cs_exfil_dangers\")"
      ],
      "metadata": {
        "colab": {
          "base_uri": "https://localhost:8080/",
          "height": 468
        },
        "id": "5GXpUFk4zyXc",
        "outputId": "fcaf59c3-4208-4317-e1c0-921cf073a4ae"
      },
      "execution_count": 63,
      "outputs": [
        {
          "output_type": "execute_result",
          "data": {
            "text/plain": [
              "<Axes: xlabel='num_cs_exfil_dangers', ylabel='count'>"
            ]
          },
          "metadata": {},
          "execution_count": 63
        },
        {
          "output_type": "display_data",
          "data": {
            "text/plain": [
              "<Figure size 640x480 with 1 Axes>"
            ],
            "image/png": "[encoded data removed]"
          },
          "metadata": {}
        }
      ]
    },
    {
      "cell_type": "code",
      "source": [
        "sns.histplot(data=ext_df, x=\"num_bp_direct_dangers\")"
      ],
      "metadata": {
        "colab": {
          "base_uri": "https://localhost:8080/",
          "height": 468
        },
        "id": "0_Y8OPdPzztA",
        "outputId": "b357b36d-b42d-44be-c9a9-096c798fe18d"
      },
      "execution_count": 64,
      "outputs": [
        {
          "output_type": "execute_result",
          "data": {
            "text/plain": [
              "<Axes: xlabel='num_bp_direct_dangers', ylabel='Count'>"
            ]
          },
          "metadata": {},
          "execution_count": 64
        },
        {
          "output_type": "display_data",
          "data": {
            "text/plain": [
              "<Figure size 640x480 with 1 Axes>"
            ],
            "image/png": "[encoded data removed]"
          },
          "metadata": {}
        }
      ]
    },
    {
      "cell_type": "code",
      "source": [
        "sns.histplot(data=ext_df, x=\"num_bp_indirect_dangers\")"
      ],
      "metadata": {
        "colab": {
          "base_uri": "https://localhost:8080/",
          "height": 468
        },
        "id": "pvQsoEjKz1jF",
        "outputId": "c85cb704-163b-4b48-e67e-69a48d89f757"
      },
      "execution_count": 65,
      "outputs": [
        {
          "output_type": "execute_result",
          "data": {
            "text/plain": [
              "<Axes: xlabel='num_bp_indirect_dangers', ylabel='Count'>"
            ]
          },
          "metadata": {},
          "execution_count": 65
        },
        {
          "output_type": "display_data",
          "data": {
            "text/plain": [
              "<Figure size 640x480 with 1 Axes>"
            ],
            "image/png": "[encoded data removed]"
          },
          "metadata": {}
        }
      ]
    },
    {
      "cell_type": "code",
      "source": [
        "sns.histplot(data=ext_df, x=\"num_bp_exfil_dangers\")"
      ],
      "metadata": {
        "colab": {
          "base_uri": "https://localhost:8080/",
          "height": 472
        },
        "id": "X7hcU1VEz2Xt",
        "outputId": "8fc148d3-eabd-4bb5-e3c2-00e6e8c67ed8"
      },
      "execution_count": 66,
      "outputs": [
        {
          "output_type": "execute_result",
          "data": {
            "text/plain": [
              "<Axes: xlabel='num_bp_exfil_dangers', ylabel='Count'>"
            ]
          },
          "metadata": {},
          "execution_count": 66
        },
        {
          "output_type": "display_data",
          "data": {
            "text/plain": [
              "<Figure size 640x480 with 1 Axes>"
            ],
            "image/png": "[encoded data removed]"
          },
          "metadata": {}
        }
      ]
    },
    {
      "cell_type": "markdown",
      "source": [
        "Feature Engineering\n",
        "\n",
        "- need to normalize num user columns?\n",
        "- average rating comes from number of reviewers only?"
      ],
      "metadata": {
        "id": "e7SEKiHcugB5"
      }
    },
    {
      "cell_type": "markdown",
      "source": [
        "Analyze Dataset\n",
        "\n",
        "- clustering?\n",
        "- regression: category vs type of danger?"
      ],
      "metadata": {
        "id": "SCzYqtvNcZo8"
      }
    }
  ]
}